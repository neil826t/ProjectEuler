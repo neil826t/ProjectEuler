{
 "cells": [
  {
   "cell_type": "code",
   "execution_count": 1,
   "id": "9deeb608-9a71-4f8b-a832-0f6dcbd00d75",
   "metadata": {},
   "outputs": [],
   "source": [
    "import numpy as np"
   ]
  },
  {
   "cell_type": "code",
   "execution_count": 46,
   "id": "eb294d5e-40e6-4f18-9653-538c5c7f61e1",
   "metadata": {},
   "outputs": [],
   "source": [
    "tri = [[75],\n",
    "[95,64],\n",
    "[17,47,82],\n",
    "[18,35,87,10],\n",
    "[20,4,82,47,65],\n",
    "[19,1,23,75,3,34],\n",
    "[88,2,77,73,7,63,67],\n",
    "[99,65,4,28,6,16,70,92],\n",
    "[41,41,26,56,83,40,80,70,33],\n",
    "[41,48,72,33,47,32,37,16,94,29],\n",
    "[53,71,44,65,25,43,91,52,97,51,14],\n",
    "[70,11,33,28,77,73,17,78,39,68,17,57],\n",
    "[91,71,52,38,17,14,91,43,58,50,27,29,48],\n",
    "[63,66,4,68,89,53,67,30,73,16,69,87,40,31],\n",
    "[4,62,98,27,23,9,70,98,73,93,38,53,60,4,23]]"
   ]
  },
  {
   "cell_type": "code",
   "execution_count": 34,
   "id": "08dab594-d9d9-4cec-8a39-ed0961ed2503",
   "metadata": {},
   "outputs": [],
   "source": [
    "def max_sum(t):\n",
    "    t.copy()\n",
    "    msum =\n",
    "    for i in range(1, len(msum)):\n",
    "        msum[i][0] += msum[i-1][0]\n",
    "    msum[i][i] += msum[i-1][i-1]\n",
    "    for j in range(1, i-1):\n",
    "        msum[i][j] += max(msum[i-1][j-1], msum[i-1][j])\n",
    "    return msum[-1]"
   ]
  },
  {
   "cell_type": "code",
   "execution_count": 40,
   "id": "70c3568b-bc60-4274-81c1-1ce128080f20",
   "metadata": {},
   "outputs": [
    {
     "data": {
      "text/plain": [
       "[545, 514]"
      ]
     },
     "execution_count": 40,
     "metadata": {},
     "output_type": "execute_result"
    }
   ],
   "source": [
    "max_sum(tri[:2])"
   ]
  },
  {
   "cell_type": "code",
   "execution_count": 47,
   "id": "cfdf98be-682a-4719-b6aa-d8ba7326d9af",
   "metadata": {},
   "outputs": [
    {
     "data": {
      "text/plain": [
       "[[75], [95, 64]]"
      ]
     },
     "execution_count": 47,
     "metadata": {},
     "output_type": "execute_result"
    }
   ],
   "source": [
    "tri[:2]"
   ]
  },
  {
   "cell_type": "code",
   "execution_count": 48,
   "id": "349c9412-91de-4b88-984a-ee3dd9c33da3",
   "metadata": {},
   "outputs": [],
   "source": [
    "ts = tri.copy()"
   ]
  },
  {
   "cell_type": "code",
   "execution_count": 50,
   "id": "15c1a783-a3dd-40ec-9bbb-29f369c6bd7d",
   "metadata": {},
   "outputs": [],
   "source": [
    "ts[1][0] = 2"
   ]
  },
  {
   "cell_type": "code",
   "execution_count": 52,
   "id": "10b97021-d787-4c43-af5e-16011819d1a6",
   "metadata": {},
   "outputs": [
    {
     "data": {
      "text/plain": [
       "[[75],\n",
       " [2, 64],\n",
       " [17, 47, 82],\n",
       " [18, 35, 87, 10],\n",
       " [20, 4, 82, 47, 65],\n",
       " [19, 1, 23, 75, 3, 34],\n",
       " [88, 2, 77, 73, 7, 63, 67],\n",
       " [99, 65, 4, 28, 6, 16, 70, 92],\n",
       " [41, 41, 26, 56, 83, 40, 80, 70, 33],\n",
       " [41, 48, 72, 33, 47, 32, 37, 16, 94, 29],\n",
       " [53, 71, 44, 65, 25, 43, 91, 52, 97, 51, 14],\n",
       " [70, 11, 33, 28, 77, 73, 17, 78, 39, 68, 17, 57],\n",
       " [91, 71, 52, 38, 17, 14, 91, 43, 58, 50, 27, 29, 48],\n",
       " [63, 66, 4, 68, 89, 53, 67, 30, 73, 16, 69, 87, 40, 31],\n",
       " [4, 62, 98, 27, 23, 9, 70, 98, 73, 93, 38, 53, 60, 4, 23]]"
      ]
     },
     "execution_count": 52,
     "metadata": {},
     "output_type": "execute_result"
    }
   ],
   "source": [
    "tri"
   ]
  },
  {
   "cell_type": "code",
   "execution_count": null,
   "id": "68212218-c9ce-47bb-a181-a23773ea2ccf",
   "metadata": {},
   "outputs": [],
   "source": []
  }
 ],
 "metadata": {
  "kernelspec": {
   "display_name": "Python 3 (ipykernel)",
   "language": "python",
   "name": "python3"
  },
  "language_info": {
   "codemirror_mode": {
    "name": "ipython",
    "version": 3
   },
   "file_extension": ".py",
   "mimetype": "text/x-python",
   "name": "python",
   "nbconvert_exporter": "python",
   "pygments_lexer": "ipython3",
   "version": "3.8.11"
  }
 },
 "nbformat": 4,
 "nbformat_minor": 5
}
